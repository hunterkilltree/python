{
 "cells": [
  {
   "cell_type": "markdown",
   "metadata": {},
   "source": [
    "### Give basic idea about Meachine Learning Concept\n",
    "### tools such as framework, packages, languages"
   ]
  },
  {
   "cell_type": "markdown",
   "metadata": {},
   "source": [
    "* Some Machine Learing Frameworks : \n",
    "    * https://scikit-learn.org/stable/\n",
    "    * https://aws.amazon.com/vi/machine-learning/\n",
    "    * https://aws.amazon.com/vi/machine-learning/\n",
    "    * https://www.microsoft.com/en-us/cognitive-toolkit/\n",
    "    * https://www.microsoft.com/en-us/cognitive-toolkit/\n",
    "    * https://pytorch.org/\n",
    "    * https://caffe2.ai/\n",
    "    * https://keras.io/\n",
    "    * https://mxnet.apache.org/"
   ]
  },
  {
   "cell_type": "markdown",
   "metadata": {},
   "source": [
    "#### Making own classifier by using scikit-learn\n",
    "\n",
    "##### Terms explain:\n",
    "\n",
    "* An **sample** or ( example) is a single element in a dataset.\n",
    "* An **dataset** is comprised of many examples.\n",
    "* A **feature** is one characteristic of an example.\n",
    "* Classifier : A supervised machine learning model that makes a prediction aobut how to a piece of data should be categoried"
   ]
  },
  {
   "cell_type": "code",
   "execution_count": null,
   "metadata": {},
   "outputs": [],
   "source": [
    "# check version\n",
    "# numpy\n",
    "# scipy\n",
    "# python"
   ]
  },
  {
   "cell_type": "code",
   "execution_count": 6,
   "metadata": {},
   "outputs": [
    {
     "name": "stdout",
     "output_type": "stream",
     "text": [
      "Collecting scikit-learn\n",
      "  Downloading https://files.pythonhosted.org/packages/6d/1b/6b7c1c95c1455ea746af0c47a8cb956894d368b77f4b79a691ffb196bfdb/scikit_learn-0.20.3-cp37-cp37m-win32.whl (4.3MB)\n",
      "Requirement already satisfied, skipping upgrade: scipy>=0.13.3 in d:\\softwarestudy\\python3\\lib\\site-packages (from scikit-learn) (1.2.1)\n",
      "Requirement already satisfied, skipping upgrade: numpy>=1.8.2 in d:\\softwarestudy\\python3\\lib\\site-packages (from scikit-learn) (1.16.2)\n",
      "Installing collected packages: scikit-learn\n",
      "Successfully installed scikit-learn-0.20.3\n"
     ]
    }
   ],
   "source": [
    "# install scikit-learn\n",
    "\n",
    "#!pip install -U scikit-learn"
   ]
  },
  {
   "cell_type": "code",
   "execution_count": 1,
   "metadata": {},
   "outputs": [
    {
     "name": "stdout",
     "output_type": "stream",
     "text": [
      "1.2.1\n",
      "1.16.2\n",
      "3.7.4 (tags/v3.7.4:e09359112e, Jul  8 2019, 19:29:22) [MSC v.1916 32 bit (Intel)]\n"
     ]
    }
   ],
   "source": [
    "import sys\n",
    "import numpy\n",
    "import scipy\n",
    "\n",
    "print(scipy.__version__)\n",
    "print(numpy.version.version)\n",
    "print(sys.version)\n",
    "\n"
   ]
  },
  {
   "cell_type": "markdown",
   "metadata": {},
   "source": [
    "### Done Set up\n",
    "#### READY TEsting"
   ]
  },
  {
   "cell_type": "markdown",
   "metadata": {},
   "source": [
    "In the testing example here, We are using the data set of **Iris** :\n",
    "* https://en.wikipedia.org/wiki/Iris_flower_data_set\n",
    "\n",
    "sklearn-learn provides small data about it : \n",
    "* https://scikit-learn.org/stable/modules/generated/sklearn.datasets.load_iris.html#sklearn.datasets.load_iris\n",
    "\n",
    "what is decision trees ?\n",
    "* https://scikit-learn.org/stable/modules/tree.html\n",
    "\n",
    "fit(X, y, sample_weight=None, check_input=True, X_idx_sorted=None)\n",
    "* https://scikit-learn.org/stable/modules/generated/sklearn.tree.DecisionTreeClassifier.html#sklearn.tree.DecisionTreeClassifier.fit\n",
    "\n",
    "\n"
   ]
  },
  {
   "cell_type": "code",
   "execution_count": 17,
   "metadata": {},
   "outputs": [
    {
     "name": "stdout",
     "output_type": "stream",
     "text": [
      "['setosa', 'versicolor', 'virginica']\n",
      "[1]\n"
     ]
    }
   ],
   "source": [
    "from sklearn.datasets import load_iris\n",
    "\n",
    "## load data set into iris\n",
    "iris = load_iris()\n",
    "\n",
    "\n",
    "## get the label in data set\n",
    "print(list(iris.target_names))\n",
    "\n",
    "## in order to make predictions\n",
    "## choose a classification model\n",
    "\n",
    "from sklearn import tree\n",
    "\n",
    "## assign \n",
    "\n",
    "classifier = tree.DecisionTreeClassifier()\n",
    "classifier = classifier.fit(iris.data, iris.target)\n",
    "\n",
    "print(classifier.predict([[5.1,3.5,1.4,1.5]]))\n",
    "\n"
   ]
  }
 ],
 "metadata": {
  "kernelspec": {
   "display_name": "Python 3",
   "language": "python",
   "name": "python3"
  },
  "language_info": {
   "codemirror_mode": {
    "name": "ipython",
    "version": 3
   },
   "file_extension": ".py",
   "mimetype": "text/x-python",
   "name": "python",
   "nbconvert_exporter": "python",
   "pygments_lexer": "ipython3",
   "version": "3.7.4"
  }
 },
 "nbformat": 4,
 "nbformat_minor": 2
}
