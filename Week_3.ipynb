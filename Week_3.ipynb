{
 "cells": [
  {
   "cell_type": "markdown",
   "metadata": {},
   "source": [
    "##### Note : Logistic Regression - Naive Bayes Classifier\n",
    "    * Correlation: is a measure of how strongly one variable depends o another.\n",
    "    * Naive : an assumption of independence between features\n",
    "    * Bayes : a classification technique based on **Bayes's theorem**\n",
    "    * Types of Naive Bayes Classifier :\n",
    "        * Guassian Naive Bayes\n",
    "        * Multinomial Naive Bayes\n",
    "        * Bernoulli Naive Bayes\n",
    "    * Confusion Matrix\n",
    "    * Natural Language Processing(NLP)\n",
    "    * String manipulation or (string handling)\n",
    "        \n",
    "    \n",
    "    "
   ]
  },
  {
   "cell_type": "code",
   "execution_count": 10,
   "metadata": {},
   "outputs": [
    {
     "name": "stdout",
     "output_type": "stream",
     "text": [
      "THE QUICK BROWN FOX.\n",
      "the quick brown fox.\n",
      "The quick brown fox.\n",
      "ThE QuicK BrowN FoX.\n",
      "tHe qUICk bROWn fOx.\n",
      "tHe qUICk bROWn fOx.\n",
      "tHe qUICk bROWn fOx.\n"
     ]
    }
   ],
   "source": [
    "## handle string\n",
    "fox = 'tHe qUICk bROWn fOx.'\n",
    "print(fox.upper())\n",
    "print(fox.lower())\n",
    "print(fox.capitalize())\n",
    "print(fox.swapcase())\n",
    "\n",
    "## removing spaces leftmost or rightmost or both\n",
    "print(fox.lstrip())\n",
    "print(fox.rstrip())\n",
    "print(fox.lstrip())\n",
    "print(fox.strip())\n"
   ]
  },
  {
   "cell_type": "code",
   "execution_count": 11,
   "metadata": {},
   "outputs": [
    {
     "name": "stdout",
     "output_type": "stream",
     "text": [
      "Rules in family:\n",
      "1. Your wife is always right.\n",
      "2. If she is wrong, check the first rule again.\n"
     ]
    }
   ],
   "source": [
    "## Finding and replacing and splitting\n",
    "## find(), index(), replace(old, new)\n",
    "## \"joinwith\".join(array.split(' '))\n",
    "\n",
    "## Some special example\n",
    "print(\"\\n\".join(['Rules in family:', '1. Your wife is always right.', '2. If she is wrong, check the first rule again.']))\n",
    "\n"
   ]
  },
  {
   "cell_type": "code",
   "execution_count": null,
   "metadata": {},
   "outputs": [],
   "source": []
  }
 ],
 "metadata": {
  "kernelspec": {
   "display_name": "Python 3",
   "language": "python",
   "name": "python3"
  },
  "language_info": {
   "codemirror_mode": {
    "name": "ipython",
    "version": 3
   },
   "file_extension": ".py",
   "mimetype": "text/x-python",
   "name": "python",
   "nbconvert_exporter": "python",
   "pygments_lexer": "ipython3",
   "version": "3.7.4"
  }
 },
 "nbformat": 4,
 "nbformat_minor": 2
}
