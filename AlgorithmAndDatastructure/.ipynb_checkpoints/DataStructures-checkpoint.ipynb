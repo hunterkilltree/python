{
 "cells": [
  {
   "cell_type": "markdown",
   "metadata": {},
   "source": [
    "### Data Structure\n",
    "* Def : a data storage format including the collection of values and \n",
    "    the format they are stored in.\n",
    "    \n",
    "* Type:\n",
    "    * array : store the collection of values where each value is **referenced** using an index or a key; order sequentially.\n",
    "    * Note : C/C++, Swift, Java: arrays are **homogeneous containers** which means they can **only contain values** of the **same type**. However, Python has somethings slightly different that we call **list**. Python created the list by allocating contiguouse memory and storing a reference or pointer to value stored somewhere in memory. \n",
    "    \n",
    "    "
   ]
  },
  {
   "cell_type": "markdown",
   "metadata": {},
   "source": [
    "* Contiguous data structure : stored in the blocks of memory that are **right beside each other with no gaps**.=>**retrieving** values is **very easy**.\n",
    "* Non-contiguous data structure : structure stores a value , as well as a **reference** to where the next **value** is. =>**retrieve** the next value, the language has to follow that **reference** also call **pointer** to the next block of memory. => increasing the runtime of common operations "
   ]
  }
 ],
 "metadata": {
  "kernelspec": {
   "display_name": "Python 3",
   "language": "python",
   "name": "python3"
  },
  "language_info": {
   "codemirror_mode": {
    "name": "ipython",
    "version": 3
   },
   "file_extension": ".py",
   "mimetype": "text/x-python",
   "name": "python",
   "nbconvert_exporter": "python",
   "pygments_lexer": "ipython3",
   "version": "3.7.2"
  }
 },
 "nbformat": 4,
 "nbformat_minor": 2
}
