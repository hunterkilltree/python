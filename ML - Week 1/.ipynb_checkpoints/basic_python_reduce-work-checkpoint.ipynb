{
 "cells": [
  {
   "cell_type": "markdown",
   "metadata": {},
   "source": [
    "# <span style=\"color:red;font-weight:bold\">Coderschool</span> - Python basic (cont)"
   ]
  },
  {
   "cell_type": "markdown",
   "metadata": {},
   "source": [
    "## Table of Contents\n",
    "#### 1. [For loop](#1) \n",
    "#### 2. [Functions](#2)\n",
    "#### 3. [Dictionaries](#3)"
   ]
  },
  {
   "cell_type": "markdown",
   "metadata": {},
   "source": [
    "**Question:** Convert name of 64 Vietnamese provinces to UPPER case\n",
    "```python\n",
    "list_provinces = [\n",
    "    'An Giang', 'Ba Ria-Vung Tau', 'Bac Lieu', 'Bac Kan', 'Bac Giang',\n",
    "    'Bac Ninh', 'Ben Tre', 'Binh Duong', 'Binh Dinh', 'Binh Phuoc', \n",
    "    'Binh Thuan', 'Ca Mau', 'Cao Bang', 'Can Tho (TP)', 'Da Nang (TP)', \n",
    "    'Dak Lak', 'Dak Nong', 'Dien Bien', 'Dong Nai', 'Dong Thap', 'Gia Lai', \n",
    "    'Ha Giang', 'Ha Nam', 'Ha Noi (TP)', 'Ha Tay', 'Ha Tinh', 'Hai Duong', \n",
    "    'Hai Phong (TP)', 'Hoa Binh', 'Ho Chi Minh (TP)', 'Hau Giang', 'Hung Yen', \n",
    "    'Khanh Hoa', 'Kien Giang', 'Kon Tum', 'Lai Chau', 'Lao Cai', 'Lang Son', \n",
    "    'Lam Dong', 'Long An', 'Nam Dinh', 'Nghe An', 'Ninh Binh', 'Ninh Thuan', \n",
    "    'Phu Tho', 'Phu Yen', 'Quang Binh', 'Quang Nam', 'Quang Ngai', 'Quang Ninh', \n",
    "    'Quang Tri', 'Soc Trang', 'Son La', 'Tay Ninh', 'Thai Binh', 'Thai Nguyen', \n",
    "    'Thanh Hoa', 'Thua Thien - Hue', 'Tien Giang', 'Tra Vinh', 'Tuyen Quang', \n",
    "    'Vinh Long', 'Vinh Phuc', 'Yen Bai']\n",
    "```\n",
    "> Example: 'An Giang' -> 'AN GIANG'\n",
    "\n",
    "> Hint: using built in function of string\n",
    "```python\n",
    "print('An Giang'.upper())\n",
    "```"
   ]
  },
  {
   "cell_type": "code",
   "execution_count": 3,
   "metadata": {},
   "outputs": [
    {
     "name": "stdout",
     "output_type": "stream",
     "text": [
      "BAC LIEU\n"
     ]
    }
   ],
   "source": [
    "# Your code here\n",
    "list_provinces = [\n",
    "    'An Giang', 'Ba Ria-Vung Tau', 'Bac Lieu', 'Bac Kan', 'Bac Giang',\n",
    "    'Bac Ninh', 'Ben Tre', 'Binh Duong', 'Binh Dinh', 'Binh Phuoc', \n",
    "    'Binh Thuan', 'Ca Mau', 'Cao Bang', 'Can Tho (TP)', 'Da Nang (TP)', \n",
    "    'Dak Lak', 'Dak Nong', 'Dien Bien', 'Dong Nai', 'Dong Thap', 'Gia Lai', \n",
    "    'Ha Giang', 'Ha Nam', 'Ha Noi (TP)', 'Ha Tay', 'Ha Tinh', 'Hai Duong', \n",
    "    'Hai Phong (TP)', 'Hoa Binh', 'Ho Chi Minh (TP)', 'Hau Giang', 'Hung Yen', \n",
    "    'Khanh Hoa', 'Kien Giang', 'Kon Tum', 'Lai Chau', 'Lao Cai', 'Lang Son', \n",
    "    'Lam Dong', 'Long An', 'Nam Dinh', 'Nghe An', 'Ninh Binh', 'Ninh Thuan', \n",
    "    'Phu Tho', 'Phu Yen', 'Quang Binh', 'Quang Nam', 'Quang Ngai', 'Quang Ninh', \n",
    "    'Quang Tri', 'Soc Trang', 'Son La', 'Tay Ninh', 'Thai Binh', 'Thai Nguyen', \n",
    "    'Thanh Hoa', 'Thua Thien - Hue', 'Tien Giang', 'Tra Vinh', 'Tuyen Quang', \n",
    "    'Vinh Long', 'Vinh Phuc', 'Yen Bai']\n",
    "\n",
    "print(list_provinces[2].upper())\n"
   ]
  },
  {
   "cell_type": "markdown",
   "metadata": {},
   "source": [
    "## 1. For loop<a id=\"1\"></a>\n",
    "Loops are a way to repeatedly execute some codes.The **``for``** loop specifies:\n",
    "- The variable name to use (in this case, `province`)\n",
    "- The set of values to loop over (in this case, `list_provinces`)\n",
    "\n",
    "You use the word **``in``** to link them together.\n",
    "\n",
    "The object to the right of the \"``in``\" can be any object that supports iteration. Basically, if it can be thought of as a group of things, you can probably loop over it. Any string in Python is a sequence of its characters, so we can iterate over them using for:"
   ]
  },
  {
   "cell_type": "code",
   "execution_count": 10,
   "metadata": {
    "scrolled": true
   },
   "outputs": [
    {
     "name": "stdout",
     "output_type": "stream",
     "text": [
      "ALABAMA\n",
      "ALASKA\n",
      "ARIZONA\n",
      "ARKANSAS\n",
      "CALIFORNIA\n",
      "COLORADO\n",
      "CONNECTICUT\n",
      "DELAWARE\n",
      "FLORIDA\n",
      "GEORGIA\n",
      "HAWAII\n",
      "IDAHO\n",
      "ILLINOIS\n",
      "INDIANA\n",
      "IOWA\n",
      "KANSAS\n",
      "KENTUCKY\n",
      "LOUISIANA\n",
      "MAINE\n",
      "MARYLAND\n",
      "MASSACHUSETTS\n",
      "MICHIGAN\n",
      "MINNESOTA\n",
      "MISSISSIPPI\n",
      "MISSOURI\n",
      "MONTANA\n",
      "NEBRASKA\n",
      "NEVADA\n",
      "NEW HAMPSHIRE\n",
      "NEW JERSEY\n",
      "NEW MEXICO\n",
      "NEW YORK\n",
      "NORTH CAROLINA\n",
      "NORTH DAKOTA\n",
      "OHIO\n",
      "OKLAHOMA\n",
      "OREGON\n",
      "PENNSYLVANIA\n",
      "RHODE ISLAND\n",
      "SOUTH CAROLINA\n",
      "SOUTH DAKOTA\n",
      "TENNESSEE\n",
      "TEXAS\n",
      "UTAH\n",
      "VERMONT\n",
      "VIRGINIA\n",
      "WASHINGTON\n",
      "WEST VIRGINIA\n",
      "WISCONSIN\n",
      "WYOMING\n"
     ]
    }
   ],
   "source": [
    "list_states = ['Alabama', 'Alaska', 'Arizona', 'Arkansas', 'California', \n",
    "              'Colorado', 'Connecticut', 'Delaware', 'Florida', 'Georgia', \n",
    "              'Hawaii', 'Idaho', 'Illinois', 'Indiana', 'Iowa', 'Kansas', \n",
    "              'Kentucky', 'Louisiana', 'Maine', 'Maryland', 'Massachusetts', \n",
    "              'Michigan', 'Minnesota', 'Mississippi', 'Missouri', 'Montana', \n",
    "              'Nebraska', 'Nevada', 'New Hampshire', 'New Jersey', 'New Mexico', \n",
    "              'New York', 'North Carolina', 'North Dakota', 'Ohio', 'Oklahoma', \n",
    "              'Oregon', 'Pennsylvania', 'Rhode Island', 'South Carolina', \n",
    "              'South Dakota', 'Tennessee', 'Texas', 'Utah', 'Vermont', 'Virginia', \n",
    "              'Washington', 'West Virginia', 'Wisconsin', 'Wyoming']\n",
    "for i in list_states:\n",
    "    print(i.upper())\n"
   ]
  },
  {
   "cell_type": "markdown",
   "metadata": {},
   "source": [
    "**Question:** Convert name of 50 U.S. State to UPPER case\n",
    "```python\n",
    "list_states = ['Alabama', 'Alaska', 'Arizona', 'Arkansas', 'California', \n",
    "              'Colorado', 'Connecticut', 'Delaware', 'Florida', 'Georgia', \n",
    "              'Hawaii', 'Idaho', 'Illinois', 'Indiana', 'Iowa', 'Kansas', \n",
    "              'Kentucky', 'Louisiana', 'Maine', 'Maryland', 'Massachusetts', \n",
    "              'Michigan', 'Minnesota', 'Mississippi', 'Missouri', 'Montana', \n",
    "              'Nebraska', 'Nevada', 'New Hampshire', 'New Jersey', 'New Mexico', \n",
    "              'New York', 'North Carolina', 'North Dakota', 'Ohio', 'Oklahoma', \n",
    "              'Oregon', 'Pennsylvania', 'Rhode Island', 'South Carolina', \n",
    "              'South Dakota', 'Tennessee', 'Texas', 'Utah', 'Vermont', 'Virginia', \n",
    "              'Washington', 'West Virginia', 'Wisconsin', 'Wyoming']\n",
    "```"
   ]
  },
  {
   "cell_type": "code",
   "execution_count": 8,
   "metadata": {},
   "outputs": [
    {
     "name": "stdout",
     "output_type": "stream",
     "text": [
      "['ALABAMA', 'ALASKA', 'ARIZONA', 'ARKANSAS', 'CALIFORNIA', 'COLORADO', 'CONNECTICUT', 'DELAWARE', 'FLORIDA', 'GEORGIA', 'HAWAII', 'IDAHO', 'ILLINOIS', 'INDIANA', 'IOWA', 'KANSAS', 'KENTUCKY', 'LOUISIANA', 'MAINE', 'MARYLAND', 'MASSACHUSETTS', 'MICHIGAN', 'MINNESOTA', 'MISSISSIPPI', 'MISSOURI', 'MONTANA', 'NEBRASKA', 'NEVADA', 'NEW HAMPSHIRE', 'NEW JERSEY', 'NEW MEXICO', 'NEW YORK', 'NORTH CAROLINA', 'NORTH DAKOTA', 'OHIO', 'OKLAHOMA', 'OREGON', 'PENNSYLVANIA', 'RHODE ISLAND', 'SOUTH CAROLINA', 'SOUTH DAKOTA', 'TENNESSEE', 'TEXAS', 'UTAH', 'VERMONT', 'VIRGINIA', 'WASHINGTON', 'WEST VIRGINIA', 'WISCONSIN', 'WYOMING']\n"
     ]
    }
   ],
   "source": [
    "# Your code here\n",
    "upper_states = []\n",
    "list_states = ['Alabama', 'Alaska', 'Arizona', 'Arkansas', 'California', \n",
    "              'Colorado', 'Connecticut', 'Delaware', 'Florida', 'Georgia', \n",
    "              'Hawaii', 'Idaho', 'Illinois', 'Indiana', 'Iowa', 'Kansas', \n",
    "              'Kentucky', 'Louisiana', 'Maine', 'Maryland', 'Massachusetts', \n",
    "              'Michigan', 'Minnesota', 'Mississippi', 'Missouri', 'Montana', \n",
    "              'Nebraska', 'Nevada', 'New Hampshire', 'New Jersey', 'New Mexico', \n",
    "              'New York', 'North Carolina', 'North Dakota', 'Ohio', 'Oklahoma', \n",
    "              'Oregon', 'Pennsylvania', 'Rhode Island', 'South Carolina', \n",
    "              'South Dakota', 'Tennessee', 'Texas', 'Utah', 'Vermont', 'Virginia', \n",
    "              'Washington', 'West Virginia', 'Wisconsin', 'Wyoming']\n",
    "for i in list_states:\n",
    "    upper_states.append(i.upper())\n",
    "print(upper_states)\n"
   ]
  },
  {
   "cell_type": "markdown",
   "metadata": {},
   "source": [
    "## 2. Function<a id=\"2\"></a>\n",
    "**Functions** are the code sections which are isolated from the rest of program and executed only when called.\n",
    "You've already seen and used built-in function such as `print()`. But Python has many more functions, and defining your own functions is a big part of Python programming. "
   ]
  },
  {
   "cell_type": "code",
   "execution_count": 22,
   "metadata": {
    "scrolled": true
   },
   "outputs": [
    {
     "name": "stdout",
     "output_type": "stream",
     "text": [
      "['AN GIANG', 'BA RIA-VUNG TAU', 'BAC LIEU', 'BAC KAN', 'BAC GIANG', 'BAC NINH', 'BEN TRE', 'BINH DUONG', 'BINH DINH', 'BINH PHUOC', 'BINH THUAN', 'CA MAU', 'CAO BANG', 'CAN THO (TP)', 'DA NANG (TP)', 'DAK LAK', 'DAK NONG', 'DIEN BIEN', 'DONG NAI', 'DONG THAP', 'GIA LAI', 'HA GIANG', 'HA NAM', 'HA NOI (TP)', 'HA TAY', 'HA TINH', 'HAI DUONG', 'HAI PHONG (TP)', 'HOA BINH', 'HO CHI MINH (TP)', 'HAU GIANG', 'HUNG YEN', 'KHANH HOA', 'KIEN GIANG', 'KON TUM', 'LAI CHAU', 'LAO CAI', 'LANG SON', 'LAM DONG', 'LONG AN', 'NAM DINH', 'NGHE AN', 'NINH BINH', 'NINH THUAN', 'PHU THO', 'PHU YEN', 'QUANG BINH', 'QUANG NAM', 'QUANG NGAI', 'QUANG NINH', 'QUANG TRI', 'SOC TRANG', 'SON LA', 'TAY NINH', 'THAI BINH', 'THAI NGUYEN', 'THANH HOA', 'THUA THIEN - HUE', 'TIEN GIANG', 'TRA VINH', 'TUYEN QUANG', 'VINH LONG', 'VINH PHUC', 'YEN BAI']\n"
     ]
    },
    {
     "ename": "AttributeError",
     "evalue": "'list' object has no attribute 'value_counts'",
     "output_type": "error",
     "traceback": [
      "\u001b[0;31m---------------------------------------------------------------------------\u001b[0m",
      "\u001b[0;31mAttributeError\u001b[0m                            Traceback (most recent call last)",
      "\u001b[0;32m<ipython-input-22-f8331e2e4fa0>\u001b[0m in \u001b[0;36m<module>\u001b[0;34m()\u001b[0m\n\u001b[1;32m      7\u001b[0m     \u001b[0;32mreturn\u001b[0m \u001b[0mupper_list\u001b[0m\u001b[0;34m\u001b[0m\u001b[0;34m\u001b[0m\u001b[0m\n\u001b[1;32m      8\u001b[0m \u001b[0mprint\u001b[0m\u001b[0;34m(\u001b[0m\u001b[0mto_upper\u001b[0m\u001b[0;34m(\u001b[0m\u001b[0mlist_provinces\u001b[0m\u001b[0;34m)\u001b[0m\u001b[0;34m)\u001b[0m\u001b[0;34m\u001b[0m\u001b[0;34m\u001b[0m\u001b[0m\n\u001b[0;32m----> 9\u001b[0;31m \u001b[0mlist_provinces\u001b[0m\u001b[0;34m.\u001b[0m\u001b[0mvalue_counts\u001b[0m\u001b[0;34m.\u001b[0m\u001b[0mhead\u001b[0m\u001b[0;34m(\u001b[0m\u001b[0;34m)\u001b[0m\u001b[0;34m\u001b[0m\u001b[0;34m\u001b[0m\u001b[0m\n\u001b[0m",
      "\u001b[0;31mAttributeError\u001b[0m: 'list' object has no attribute 'value_counts'"
     ]
    }
   ],
   "source": [
    "def to_upper(in_list):\n",
    "    # Your code here\n",
    "    upper_list = []\n",
    "    #print(in_list)\n",
    "    for item in in_list:\n",
    "        upper_list.append(item.upper())\n",
    "    return upper_list\n",
    "print(to_upper(list_provinces))\n"
   ]
  },
  {
   "cell_type": "code",
   "execution_count": null,
   "metadata": {},
   "outputs": [],
   "source": []
  },
  {
   "cell_type": "markdown",
   "metadata": {},
   "source": [
    "## 3. Dictionary<a id=\"3\"></a>\n",
    "Data structure, which allows to use an arbitrary type of index instead of just numerical, is called **dictionary**. In Python, it is called `dict`.\n",
    "\n",
    "An empty dictionary can be created using the function `dict()` or an empty pair of curly braces `{}`."
   ]
  },
  {
   "cell_type": "code",
   "execution_count": 21,
   "metadata": {},
   "outputs": [
    {
     "name": "stdout",
     "output_type": "stream",
     "text": [
      "The capital of Russia is Moscow\n",
      "The capital of France is unknown\n",
      "The capital of USA is Washington\n",
      "The capital of Russia is Moscow\n",
      "Washington\n"
     ]
    }
   ],
   "source": [
    "# Create empty dict Capitals\n",
    "Capitals = dict()\n",
    "\n",
    "# Fill it with some values\n",
    "Capitals['Russia'] = 'Moscow'\n",
    "Capitals['Ukraine'] = 'Kiev'\n",
    "Capitals['USA'] = 'Washington'\n",
    "\n",
    "# A list of countries\n",
    "Countries = ['Russia', 'France', 'USA', 'Russia']\n",
    "\n",
    "for country in Countries:\n",
    "  # For each country from the list check to see whether it is in the dictionary Capitals\n",
    "    if country in Capitals:\n",
    "        print('The capital of ' + country + ' is ' + Capitals[country])\n",
    "    else:\n",
    "        print('The capital of ' + country + ' is unknown')\n",
    "        \n",
    "print(Capitals['USA'])"
   ]
  },
  {
   "cell_type": "code",
   "execution_count": 20,
   "metadata": {},
   "outputs": [
    {
     "ename": "NameError",
     "evalue": "name 'Capitals' is not defined",
     "output_type": "error",
     "traceback": [
      "\u001b[0;31m---------------------------------------------------------------------------\u001b[0m",
      "\u001b[0;31mNameError\u001b[0m                                 Traceback (most recent call last)",
      "\u001b[0;32m<ipython-input-20-f44ab5267fe7>\u001b[0m in \u001b[0;36m<module>\u001b[0;34m()\u001b[0m\n\u001b[0;32m----> 1\u001b[0;31m \u001b[0mprint\u001b[0m\u001b[0;34m(\u001b[0m\u001b[0mCapitals\u001b[0m\u001b[0;34m[\u001b[0m\u001b[0;34m'USA'\u001b[0m\u001b[0;34m]\u001b[0m\u001b[0;34m)\u001b[0m\u001b[0;34m\u001b[0m\u001b[0;34m\u001b[0m\u001b[0m\n\u001b[0m",
      "\u001b[0;31mNameError\u001b[0m: name 'Capitals' is not defined"
     ]
    }
   ],
   "source": []
  },
  {
   "cell_type": "code",
   "execution_count": 5,
   "metadata": {},
   "outputs": [],
   "source": [
    "# Second way to define dictionary\n",
    "Capitals = {\n",
    "    'Russia': 'Moscow', \n",
    "    'Ukraine': 'Kiev', \n",
    "    'USA': 'Washington'\n",
    "}"
   ]
  }
 ],
 "metadata": {
  "kernelspec": {
   "display_name": "Python 3",
   "language": "python",
   "name": "python3"
  },
  "language_info": {
   "codemirror_mode": {
    "name": "ipython",
    "version": 3
   },
   "file_extension": ".py",
   "mimetype": "text/x-python",
   "name": "python",
   "nbconvert_exporter": "python",
   "pygments_lexer": "ipython3",
   "version": "3.7.4"
  }
 },
 "nbformat": 4,
 "nbformat_minor": 2
}
