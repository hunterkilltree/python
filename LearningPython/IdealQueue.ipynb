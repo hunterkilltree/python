{
 "cells": [
  {
   "cell_type": "code",
   "execution_count": null,
   "metadata": {},
   "outputs": [
    {
     "name": "stdout",
     "output_type": "stream",
     "text": [
      "request: a\n",
      "Download from cache\n",
      "['a', 'b']\n",
      "request: c\n",
      "Request to server\n"
     ]
    }
   ],
   "source": [
    "myQueue = ['a', 'b']\n",
    "cacheStore = len(myQueue)\n",
    "\n",
    "def server():    \n",
    "    character = input(\"> \")\n",
    "    myQueue.append(character)\n",
    "\n",
    "while True:\n",
    "    request = input(\"request: \") \n",
    "    if request in myQueue :\n",
    "        print (\"Download from cache\")\n",
    "    else:\n",
    "        print (\"Request to server\")\n",
    "        server()\n",
    "        cacheStore = cacheStore + 1\n",
    "        if cacheStore > 5 :\n",
    "            myQueue.pop(0)\n",
    "            count = count - 1\n",
    "\n",
    "    print(myQueue)"
   ]
  },
  {
   "cell_type": "code",
   "execution_count": null,
   "metadata": {},
   "outputs": [],
   "source": [
    "fileFormat = 'e'\n",
    "listFile   = [] \n",
    "\n",
    "for i in range(10) :\n",
    "    f  = FileFormat + str(i) +  \".md\"\n",
    "    listFile.append(f)\n",
    "    \n",
    "print(listFile)"
   ]
  }
 ],
 "metadata": {
  "kernelspec": {
   "display_name": "Python 3",
   "language": "python",
   "name": "python3"
  },
  "language_info": {
   "codemirror_mode": {
    "name": "ipython",
    "version": 3
   },
   "file_extension": ".py",
   "mimetype": "text/x-python",
   "name": "python",
   "nbconvert_exporter": "python",
   "pygments_lexer": "ipython3",
   "version": "3.7.4"
  }
 },
 "nbformat": 4,
 "nbformat_minor": 2
}
