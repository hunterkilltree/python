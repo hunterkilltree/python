{
 "cells": [
  {
   "cell_type": "code",
   "execution_count": 100,
   "metadata": {},
   "outputs": [
    {
     "name": "stderr",
     "output_type": "stream",
     "text": [
      "No handles with labels found to put in legend.\n"
     ]
    },
    {
     "data": {
      "image/png": "[encoded data removed]",
      "text/plain": [
       "<Figure size 1440x216 with 1 Axes>"
      ]
     },
     "metadata": {},
     "output_type": "display_data"
    }
   ],
   "source": [
    "import matplotlib.pyplot as plt\n",
    "\n",
    "request = []\n",
    "hit = []\n",
    "\n",
    "for i in range(100) :\n",
    "    request.append(i)\n",
    "    if i % 2 == 0 :\n",
    "        hit.append(0.6)\n",
    "    elif i % 3 == 0:\n",
    "        hit.append(0.5)\n",
    "    else :\n",
    "        hit.append(0.4)\n",
    "    i = i + 5\n",
    "\n",
    "# plot_df = request\n",
    "\n",
    "# plot_df.plot(kind='bar')\n",
    "# .plot(x, y)\n",
    "\n",
    "#plt.plot(request, hit)\n",
    "# plt.bar(request, hit)\n",
    "\n",
    "# plt.ylabel('hit rate')\n",
    "# plt.xlabel('request')\n",
    "#plt.show()\n",
    "\n",
    "namesCache = ['MainServer', 'Cache1', 'Cache2', 'Cache3']\n",
    "\n",
    "values = []\n",
    "\n",
    "hitRate = 100\n",
    "values.append(hitRate)\n",
    "\n",
    "hitRate = 50\n",
    "values.append(hitRate)\n",
    "hitRate = 30\n",
    "values.append(hitRate)\n",
    "hitRate = 20\n",
    "values.append(hitRate)\n",
    "\n",
    "plt.figure(figsize=(20, 3))\n",
    "plt.legend()\n",
    "plt.subplot(131) # plt.subplot(132) , plt.subplot(133) : 3 images horizontal\n",
    "plt.bar(namesCache, values)\n",
    "\n",
    "for i, v in enumerate(values):\n",
    "    plt.text(x = r4[i]-0.5 , y = bars4[i]+0.1, s = label[i], size = 6)\n",
    " \n",
    "\n",
    "plt.show()\n",
    "# ax = plt.subplots()  \n",
    "\n",
    "#plt.legend(namesCache, values)\n",
    "# for i, v in enumerate(values):\n",
    "#     ax.text(v, i,'fdsafdsafFDSFAS', color='blue', va='center', fontweight='bold')\n"
   ]
  }
 ],
 "metadata": {
  "kernelspec": {
   "display_name": "Python 3",
   "language": "python",
   "name": "python3"
  },
  "language_info": {
   "codemirror_mode": {
    "name": "ipython",
    "version": 3
   },
   "file_extension": ".py",
   "mimetype": "text/x-python",
   "name": "python",
   "nbconvert_exporter": "python",
   "pygments_lexer": "ipython3",
   "version": "3.7.4"
  }
 },
 "nbformat": 4,
 "nbformat_minor": 2
}
