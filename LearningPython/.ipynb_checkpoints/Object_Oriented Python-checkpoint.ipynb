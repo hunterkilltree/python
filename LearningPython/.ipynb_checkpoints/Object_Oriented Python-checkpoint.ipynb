{
 "cells": [
  {
   "cell_type": "markdown",
   "metadata": {},
   "source": [
    "Basic class"
   ]
  },
  {
   "cell_type": "code",
   "execution_count": 18,
   "metadata": {},
   "outputs": [
    {
     "name": "stdout",
     "output_type": "stream",
     "text": [
      "23\n",
      "RI\n"
     ]
    }
   ],
   "source": [
    "#I will create  class human has atrribute : name and age. \n",
    "#I will leave a argument so that user can add any attribute and value for it\n",
    "\n",
    "class Human: # capilized will be better\n",
    "    name = None\n",
    "    def __init__(self, name, age, **kwargs): #self call the class\n",
    "        self.name = name\n",
    "        self.age  = age\n",
    "        \n",
    "        for attribute, value in kwargs.items():\n",
    "            setattr(self, attribute, value)\n",
    "            \n",
    "            \n",
    "#inheritance\n",
    "class Superman(Human):\n",
    "    \n",
    "    SuperSkill = True\n",
    "    \n",
    "    def __init__(self, name, age, **kwargs):\n",
    "        super().__init__(name, age, **kwargs)\n",
    "        \n",
    "    #@property // making special method \n",
    "    #@NameMethod.setter update the data of class\n",
    "    \n",
    "        \n",
    "        \n",
    "        \n",
    "        \n",
    "\n",
    "\n",
    "# a is an instance\n",
    "a = Human(\"RIRIR\", 23 , height = \"1'7\", relationship = \"Single\")\n",
    "\n",
    "b = Superman(\"RI\", 23 , height = \"1'7\", relationship = \"Single\")\n",
    "\n",
    "\n",
    "print(a.age) #call an attribute inside class with a is an instance of class human \n",
    "print(b.name)\n",
    "\n",
    "# some useful function with class\n",
    "# isinstance(what)\n",
    "#.....\n",
    "\n",
    "#We can overider the libary like __init, __float__\n",
    "#We can hide our data by using __name and __method, access inside class. However, we can use special way:\n",
    "#_ClassName__nameMethod\n",
    "\n"
   ]
  },
  {
   "cell_type": "markdown",
   "metadata": {},
   "source": [
    "Emulating numeric types"
   ]
  },
  {
   "cell_type": "code",
   "execution_count": 46,
   "metadata": {},
   "outputs": [],
   "source": [
    "class NumString:\n",
    "    def __init__(self, value):\n",
    "        self.value = str(value)\n",
    "\n",
    "    def __str__(self):\n",
    "         return self.value\n",
    "\n",
    "    def __int__(self):\n",
    "        return int(self.value)\n",
    "\n",
    "    def __float__(self):\n",
    "        return float(self.value)\n",
    "    \n",
    "    def __add__(self, other):\n",
    "        if '.' in self.value:\n",
    "            return float(self) + other\n",
    "        return int(self) + other\n",
    "      \n",
    "    def __radd__(self, other):\n",
    "        return self + other\n",
    "    \n",
    "    def __iadd__(self, other):\n",
    "        self.value = self + other\n",
    "        return self.value\n",
    "    \n",
    "    def __mul__(self, other):\n",
    "        if '.' in self.value:\n",
    "            return float(self) * other\n",
    "        return int(self) * other\n",
    "    \n",
    "    def __rmul__(self, other):\n",
    "        return self * other"
   ]
  },
  {
   "cell_type": "markdown",
   "metadata": {},
   "source": [
    "Subclassing Built-ins"
   ]
  },
  {
   "cell_type": "code",
   "execution_count": 36,
   "metadata": {},
   "outputs": [
    {
     "name": "stdout",
     "output_type": "stream",
     "text": [
      "fedcba\n",
      "12\n"
     ]
    }
   ],
   "source": [
    "class ReversedStr(str):\n",
    "    def __new__(*args,**kwargs):\n",
    "        self = str.__new__(*args, **kwargs)\n",
    "        self = self[::-1]\n",
    "        return self\n",
    "\n",
    "    \n",
    "    \n",
    "a = ReversedStr(\"abcdef\")\n",
    "print(a) \n",
    "\n",
    "\n",
    "\n",
    "###############################################################################\n",
    "class Rectangle:\n",
    "    \n",
    "    def __init__(self, w, l):\n",
    "        self.w = w\n",
    "        self.l = l\n",
    "    \n",
    "    @property\n",
    "    def area(self):\n",
    "        return self.w *self.l\n",
    "\n",
    "\n",
    "rec_1 = Rectangle(3, 4) \n",
    "\n",
    "print(rec_1.area) # special way using method that people don't know you 're using method\n",
    "\n",
    "###########################################################################################\n",
    "\n",
    "\n",
    "\n"
   ]
  },
  {
   "cell_type": "markdown",
   "metadata": {},
   "source": [
    "mini project"
   ]
  },
  {
   "cell_type": "code",
   "execution_count": null,
   "metadata": {},
   "outputs": [],
   "source": []
  }
 ],
 "metadata": {
  "kernelspec": {
   "display_name": "Python 3",
   "language": "python",
   "name": "python3"
  },
  "language_info": {
   "codemirror_mode": {
    "name": "ipython",
    "version": 3
   },
   "file_extension": ".py",
   "mimetype": "text/x-python",
   "name": "python",
   "nbconvert_exporter": "python",
   "pygments_lexer": "ipython3",
   "version": "3.7.2"
  }
 },
 "nbformat": 4,
 "nbformat_minor": 2
}
