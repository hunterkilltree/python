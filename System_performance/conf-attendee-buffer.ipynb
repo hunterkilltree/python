{
 "cells": [
  {
   "cell_type": "code",
   "execution_count": 4,
   "metadata": {},
   "outputs": [
    {
     "name": "stdout",
     "output_type": "stream",
     "text": [
      "Attendee 0 finished talks with knowledge 1.00 and hunger 7.00\n",
      "Attendee 1 finished talks with knowledge 3.50 and hunger 6.00\n",
      "Attendee 2 finished talks with knowledge 1.00 and hunger 6.00\n",
      "Attendee 0 finished eating with hunger 0.00\n",
      "Attendee 1 didn't make it to the buffet, hunger is now at 7.00.\n",
      "Attendee 2 didn't make it to the buffet, hunger is now at 7.00.\n",
      "Attendee 0 finished talks with knowledge 2.00 and hunger 6.00\n",
      "Attendee 1 finished talks with knowledge 4.48 and hunger 13.00\n",
      "Attendee 2 finished talks with knowledge 1.45 and hunger 13.00\n",
      "Attendee 0 finished eating with hunger 0.00\n",
      "Attendee 1 didn't make it to the buffet, hunger is now at 14.00.\n",
      "Attendee 2 didn't make it to the buffet, hunger is now at 14.00.\n"
     ]
    }
   ],
   "source": [
    "from random import randint\n",
    "import simpy\n",
    "\n",
    "TALKS_PER_PERSON = 3\n",
    "TALK_LENGTH = 30\n",
    "BREAK_LENGTH = 15\n",
    "DURATION_EAT = 3\n",
    "BUFFET_SLOTS = 1\n",
    "\n",
    "def attendee(env, name, buffet, knowledge = 0, hunger = 0):\n",
    "    while True:\n",
    "        # visit talks\n",
    "        for i in range(TALKS_PER_PERSON):\n",
    "            knowledge += randint( 0, 3 )/(1 + hunger)\n",
    "            hunger += randint( 1, 4 )\n",
    "\n",
    "            yield env.timeout( TALK_LENGTH )\n",
    "\n",
    "        print( 'Attendee %s finished talks with knowledge %.2f and hunger %.2f' % (name, knowledge, hunger))\n",
    "\n",
    "        # go buffet\n",
    "        start = env.now\n",
    "        with buffet.request() as req:\n",
    "            yield req | env.timeout( BREAK_LENGTH - DURATION_EAT )\n",
    "            time_left = BREAK_LENGTH - ( env.now - start )\n",
    "            if req.triggered:\n",
    "                food = min( randint( 3, 12 ), time_left ) # less time -> less food\n",
    "                yield env.timeout( DURATION_EAT )\n",
    "                hunger -= min( food, hunger )\n",
    "                time_left -= DURATION_EAT\n",
    "                print( 'Attendee %s finished eating with hunger %.2f' % (name, hunger))\n",
    "            else:\n",
    "                hunger += 1 # penalty for only taking a look at all the food\n",
    "                print( 'Attendee %s didn\\'t make it to the buffet, hunger is now '\n",
    "                       'at %.2f.' % (name, hunger) )\n",
    "            yield env.timeout( time_left )\n",
    "\n",
    "env = simpy.Environment()\n",
    "buffet = simpy.Resource( env, capacity = BUFFET_SLOTS )\n",
    "for i in range( 3 ):\n",
    "    env.process( attendee(env, i, buffet ) )\n",
    "env.run( until = 220 )\n"
   ]
  }
 ],
 "metadata": {
  "kernelspec": {
   "display_name": "Python 3",
   "language": "python",
   "name": "python3"
  },
  "language_info": {
   "codemirror_mode": {
    "name": "ipython",
    "version": 3
   },
   "file_extension": ".py",
   "mimetype": "text/x-python",
   "name": "python",
   "nbconvert_exporter": "python",
   "pygments_lexer": "ipython3",
   "version": "3.7.4"
  }
 },
 "nbformat": 4,
 "nbformat_minor": 2
}
