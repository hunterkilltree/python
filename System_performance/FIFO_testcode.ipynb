{
 "cells": [
  {
   "cell_type": "code",
   "execution_count": 2,
   "metadata": {
    "scrolled": true
   },
   "outputs": [
    {
     "name": "stdout",
     "output_type": "stream",
     "text": [
      "Requirement already satisfied: simpy in d:\\softwarestudy\\python3\\lib\\site-packages (3.0.11)\n"
     ]
    },
    {
     "name": "stderr",
     "output_type": "stream",
     "text": [
      "You are using pip version 19.0.3, however version 19.3.1 is available.\n",
      "You should consider upgrading via the 'python -m pip install --upgrade pip' command.\n"
     ]
    },
    {
     "name": "stdout",
     "output_type": "stream",
     "text": [
      "Collecting pip\n",
      "  Downloading https://files.pythonhosted.org/packages/00/b6/9cfa56b4081ad13874b0c6f96af8ce16cfbc1cb06bedf8e9164ce5551ec1/pip-19.3.1-py2.py3-none-any.whl (1.4MB)\n",
      "Installing collected packages: pip\n",
      "  Found existing installation: pip 19.0.3\n",
      "    Uninstalling pip-19.0.3:\n",
      "      Successfully uninstalled pip-19.0.3\n",
      "Successfully installed pip-19.3.1\n"
     ]
    }
   ],
   "source": [
    "!pip install simpy"
   ]
  },
  {
   "cell_type": "code",
   "execution_count": 3,
   "metadata": {},
   "outputs": [
    {
     "name": "stdout",
     "output_type": "stream",
     "text": [
      "Server is idle at 0\n",
      "job 1: t = 2, l = 5\n",
      "A new job comes. Server back to work at 2 by 'Wake up, please.'\n",
      "job 2: t = 4, l = 2\n",
      "job 3: t = 5, l = 3\n",
      "job 4: t = 9, l = 5\n",
      "job 5: t = 14, l = 2\n",
      "job 6: t = 18, l = 2\n"
     ]
    }
   ],
   "source": [
    "import simpy\n",
    "import random\n",
    "\n",
    "class Job:\n",
    "    def __init__(self, name, duration):\n",
    "        self.name = name\n",
    "        self.duration = duration\n",
    "\n",
    "class Server:\n",
    "    def __init__(self, env):\n",
    "        self.Jobs = list(())\n",
    "        env.process( self.serve(env) )\n",
    "\n",
    "    def serve(self, env):\n",
    "        while True:\n",
    "            ''' do nothing, just change server to idle\n",
    "              and then yield a wait event which takes infinite time\n",
    "            '''\n",
    "            if len( self.Jobs ) == 0 :\n",
    "                self.serversleeping = env.process( self.waiting( env ))\n",
    "                yield self.serversleeping\n",
    "            else:\n",
    "                ''' get the first job to be served'''\n",
    "                j = self.Jobs.pop( 0 )\n",
    "                ''' yield an event for the job finish'''\n",
    "                yield env.timeout( j.duration )\n",
    "\n",
    "    def waiting(self, env):\n",
    "        try:\n",
    "            print( 'Server is idle at %d' % env.now )\n",
    "            yield env.timeout(1000)\n",
    "        except simpy.Interrupt as i:\n",
    "            print('A new job comes. Server back to work at %d'\n",
    "                  ' by \\'%s\\''% (env.now, i.cause) )\n",
    "\n",
    "class JobGenerator:\n",
    "    job_count = 0\n",
    "\n",
    "    def __init__(self, env, server):\n",
    "        self.server = server\n",
    "        env.process( self.jobgen(env) )\n",
    "\n",
    "    def jobgen(self, env):\n",
    "        while True:\n",
    "            '''yield an event for new job arrival'''\n",
    "            job_interarrival = random.randint(1,5)\n",
    "            yield env.timeout( job_interarrival )\n",
    "\n",
    "            ''' generate service time and add job to the list'''\n",
    "            job_duration = random.randint(2,5)\n",
    "            self.job_count += 1\n",
    "            self.server.Jobs.append( Job('Job %s' %self.job_count, job_duration) )\n",
    "            print( 'job %d: t = %d, l = %d' %( self.job_count, env.now, job_duration ) )\n",
    "\n",
    "            ''' if server is idle, wake it up'''\n",
    "            if not self.server.serversleeping.triggered:\n",
    "                self.server.serversleeping.interrupt( 'Wake up, please.' )\n",
    "\n",
    "env = simpy.Environment()\n",
    "MyServer = Server( env )\n",
    "MyJobGenerator = JobGenerator( env, MyServer )\n",
    "env.run( until = 20 )\n"
   ]
  }
 ],
 "metadata": {
  "kernelspec": {
   "display_name": "Python 3",
   "language": "python",
   "name": "python3"
  },
  "language_info": {
   "codemirror_mode": {
    "name": "ipython",
    "version": 3
   },
   "file_extension": ".py",
   "mimetype": "text/x-python",
   "name": "python",
   "nbconvert_exporter": "python",
   "pygments_lexer": "ipython3",
   "version": "3.7.4"
  }
 },
 "nbformat": 4,
 "nbformat_minor": 2
}
