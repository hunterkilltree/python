{
 "cells": [
  {
   "cell_type": "markdown",
   "metadata": {},
   "source": [
    "### Give basic idea about Meachine Learning Concept\n",
    "### tools such as framework, packages, languages"
   ]
  },
  {
   "cell_type": "markdown",
   "metadata": {},
   "source": [
    "* Some Machine Learing Frameworks : \n",
    "    * https://scikit-learn.org/stable/\n",
    "    * https://aws.amazon.com/vi/machine-learning/\n",
    "    * https://aws.amazon.com/vi/machine-learning/\n",
    "    * https://www.microsoft.com/en-us/cognitive-toolkit/\n",
    "    * https://www.microsoft.com/en-us/cognitive-toolkit/\n",
    "    * https://pytorch.org/\n",
    "    * https://caffe2.ai/\n",
    "    * https://keras.io/\n",
    "    * https://mxnet.apache.org/"
   ]
  }
 ],
 "metadata": {
  "kernelspec": {
   "display_name": "Python 3",
   "language": "python",
   "name": "python3"
  },
  "language_info": {
   "codemirror_mode": {
    "name": "ipython",
    "version": 3
   },
   "file_extension": ".py",
   "mimetype": "text/x-python",
   "name": "python",
   "nbconvert_exporter": "python",
   "pygments_lexer": "ipython3",
   "version": "3.7.2"
  }
 },
 "nbformat": 4,
 "nbformat_minor": 2
}
