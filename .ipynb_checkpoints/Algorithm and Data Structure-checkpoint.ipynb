{
 "cells": [
  {
   "cell_type": "markdown",
   "metadata": {},
   "source": [
    "* M change cell to markdown\n",
    "* D + D delete cell\n",
    "* B insert new cell below\n",
    "* Ctrl + shift + - split at the position of cursor\n",
    "* A insert new cell above\n",
    "* Esc  + F find and replace code **not output**\n",
    "* Shift + M merge mutiple cells.\n",
    "* Ctrl + Enter run the cell."
   ]
  },
  {
   "cell_type": "markdown",
   "metadata": {},
   "source": [
    "## Algorithm is the number of steps a program takes to finish the task"
   ]
  },
  {
   "cell_type": "markdown",
   "metadata": {},
   "source": [
    "##### the  O in big O notation stands for the order of *** growth***"
   ]
  },
  {
   "cell_type": "markdown",
   "metadata": {},
   "source": [
    "# linear search\n",
    "### O(n) in worst case "
   ]
  },
  {
   "cell_type": "code",
   "execution_count": 10,
   "metadata": {},
   "outputs": [
    {
     "name": "stdout",
     "output_type": "stream",
     "text": [
      "3 is the position of target\n"
     ]
    }
   ],
   "source": [
    "def linear_search(mylist, target):\n",
    "    for i in range(0, len(mylist)):\n",
    "        if mylist[i] == target:\n",
    "            return i\n",
    "    return None\n",
    "\n",
    "\n",
    "\n",
    "mylist = [1, 3, 4, 5, 2, 4, 10]\n",
    "res = linear_search(mylist, 5)\n",
    "print(\"{} is the position of target\".format(res))"
   ]
  },
  {
   "cell_type": "markdown",
   "metadata": {},
   "source": [
    "## Binary search\n",
    "##### require the sub-condition that the given list must be sorted\n",
    "##### O(n logn)\n"
   ]
  },
  {
   "cell_type": "code",
   "execution_count": 38,
   "metadata": {},
   "outputs": [
    {
     "name": "stdout",
     "output_type": "stream",
     "text": [
      "4 is the position of the value\n"
     ]
    }
   ],
   "source": [
    "# // floor division operator \n",
    "# 7 / 2 = 4.5 , 7 // 2 = 4\n",
    "def binary_search(lst, target):\n",
    "    first = 0\n",
    "    last = len(lst) - 1\n",
    "    \n",
    "    while first <= last:\n",
    "            midpoint = (first + last) // 2\n",
    "            if lst[midpoint] == target:\n",
    "                return midpoint\n",
    "            if lst[midpoint] < target:\n",
    "                first = midpoint + 1\n",
    "            elif lst[midpoint] > target:\n",
    "                last = midpoint - 1\n",
    "                \n",
    "    return None\n",
    "\n",
    "# mylist sorted\n",
    "mylist = [1,2,3,4,5,6,7,8,9,10]\n",
    "target = 5\n",
    "print (\"{} is the position of the value\".format(binary_search(mylist, target)))\n",
    "    "
   ]
  },
  {
   "cell_type": "code",
   "execution_count": 39,
   "metadata": {},
   "outputs": [
    {
     "name": "stdout",
     "output_type": "stream",
     "text": [
      "true\n"
     ]
    }
   ],
   "source": [
    "'''\n",
    "Binary Search Recursion\n",
    "'''\n",
    "\n",
    "def recursive_binary_search(list_nums, target):\n",
    "    if len(list_nums) == 0:\n",
    "        return False\n",
    "    else:\n",
    "        midpoint = (len(list_nums))  // 2\n",
    "        \n",
    "        if list_nums[midpoint] == target:\n",
    "            return True\n",
    "        elif list_nums[midpoint] < target:\n",
    "            return recursive_binary_search(list_nums[midpoint + 1:], target)\n",
    "        elif list_nums[midpoint] > target:\n",
    "            return recursive_binary_search(list_nums[:midpoint], target)\n",
    "\n",
    "        \n",
    "nums = [1, 2, 3,4, 5, 6, 7, 8, 9]\n",
    "target = 1\n",
    "check = recursive_binary_search(nums, target)\n",
    "    \n",
    "\n",
    "if check == True:\n",
    "    print(\"true\")\n",
    "    \n",
    "else:\n",
    "    print(\"false\")"
   ]
  },
  {
   "cell_type": "markdown",
   "metadata": {},
   "source": [
    "### Another version of recursive binary search\n",
    "##### Where we can get the postion of the target in the list"
   ]
  },
  {
   "cell_type": "code",
   "execution_count": 44,
   "metadata": {},
   "outputs": [
    {
     "name": "stdout",
     "output_type": "stream",
     "text": [
      "0 is the position of the value\n"
     ]
    }
   ],
   "source": [
    "def recursive_binary_search(list_nums, target, start = 0, end = None):\n",
    "    if end is None:\n",
    "        end = len(list_nums) - 1\n",
    "    if start > end:\n",
    "        return -1\n",
    "    \n",
    "    mid = (start + end) // 2\n",
    "    \n",
    "    if target == list_nums[mid]:\n",
    "        return mid\n",
    "    elif target > list_nums[mid]:\n",
    "        return recursive_binary_search(list_nums, target, mid + 1, end)\n",
    "    elif target < list_nums[mid]:\n",
    "        return recursive_binary_search(list_nums, target, start, mid - 1)\n",
    "    \n",
    "        \n",
    "mylist = [1,2,3,4,5,6,7,8,9,10]\n",
    "target = 1\n",
    "print (\"{} is the position of the value\".format(recursive_binary_search(mylist, target)))  \n",
    "        "
   ]
  },
  {
   "cell_type": "markdown",
   "metadata": {},
   "source": [
    "### Selection Sort"
   ]
  },
  {
   "cell_type": "code",
   "execution_count": 29,
   "metadata": {},
   "outputs": [
    {
     "name": "stdout",
     "output_type": "stream",
     "text": [
      "[4, 8, 10, 9, 1, 3, 5, 2]\n",
      "[1, 2, 3, 4, 5, 8, 9, 10]\n"
     ]
    }
   ],
   "source": [
    "import random\n",
    "\n",
    "def FindMin(lst):\n",
    "    min = lst[0]\n",
    "    index = 0\n",
    "    for i in range(1, len(lst)):\n",
    "        if (lst[i] < min):\n",
    "            min = lst[i]\n",
    "            index = i\n",
    "    return index\n",
    "    \n",
    "\n",
    "def ComputerSorting(UnSorted):\n",
    "    Sorted = []\n",
    "    n = len(UnSorted)\n",
    "    \n",
    "    for i in  range(0, n):\n",
    "        temp = UnSorted.pop(FindMin(UnSorted))\n",
    "        Sorted.append(temp)\n",
    "    return Sorted\n",
    "\n",
    "\n",
    "num_list = [4, 3, 1 , 5 , 8, 9, 2, 10]\n",
    "\n",
    "random.shuffle(num_list)\n",
    "print(num_list)\n",
    "UnSorted = num_list\n",
    "Sorted = ComputerSorting(UnSorted)\n",
    "print(Sorted)\n",
    "\n",
    "\n",
    "\n",
    "\n"
   ]
  },
  {
   "cell_type": "markdown",
   "metadata": {},
   "source": [
    "### Version 2 "
   ]
  },
  {
   "cell_type": "code",
   "execution_count": 10,
   "metadata": {},
   "outputs": [
    {
     "name": "stdout",
     "output_type": "stream",
     "text": [
      "After                     Before                   \n",
      "[10, 4, 9, 5, 1, 8, 3, 2] []                       \n",
      "[10, 4, 9, 5, 8, 3, 2]    [1]                      \n",
      "[10, 4, 9, 5, 8, 3]       [1, 2]                   \n",
      "[10, 4, 9, 5, 8]          [1, 2, 3]                \n",
      "[10, 9, 5, 8]             [1, 2, 3, 4]             \n",
      "[10, 9, 8]                [1, 2, 3, 4, 5]          \n",
      "[10, 9]                   [1, 2, 3, 4, 5, 8]       \n",
      "[10]                      [1, 2, 3, 4, 5, 8, 9]    \n",
      "[]                        [1, 2, 3, 4, 5, 8, 9, 10]\n"
     ]
    }
   ],
   "source": [
    "import random\n",
    "\n",
    "def FindMin(lst):\n",
    "    min_index = 0\n",
    "    for i in range(1, len(lst)):\n",
    "        if (lst[i] < lst[min_index]):\n",
    "            min_index = i\n",
    "    return min_index\n",
    "    \n",
    "\n",
    "def ComputerSorting(UnSorted):\n",
    "    Sorted = []\n",
    "    n = len(UnSorted)\n",
    "    print(\"%-25s %-25s\" %(UnSorted, Sorted))\n",
    "    for i in  range(0, n):\n",
    "        index = UnSorted.pop(FindMin(UnSorted))\n",
    "        Sorted.append(index)\n",
    "        print(\"%-25s %-25s\" %(UnSorted, Sorted))\n",
    "    return Sorted\n",
    "\n",
    "\n",
    "num_list = [4, 3, 1 , 5 , 8, 9, 2, 10]\n",
    "print(\"%-25s %-25s\" %(\"After\", \"Before\"))\n",
    "random.shuffle(num_list)\n",
    "#print(num_list)\n",
    "UnSorted = num_list\n",
    "Sorted = ComputerSorting(UnSorted)\n",
    "#print(Sorted)\n"
   ]
  },
  {
   "cell_type": "markdown",
   "metadata": {},
   "source": [
    "### Quick Sort Algorithm"
   ]
  },
  {
   "cell_type": "code",
   "execution_count": 31,
   "metadata": {
    "scrolled": false
   },
   "outputs": [
    {
     "name": "stdout",
     "output_type": "stream",
     "text": [
      "[4, 6, 2, 3, 9, 7, 3, 5]\n",
      "less_than_pivot           pivot        greater_than_pivot\n",
      "[2, 3, 3]                 4                  [6, 9, 7, 5]\n",
      "[]                        2                        [3, 3]\n",
      "[3]                       3                            []\n",
      "[5]                       6                        [9, 7]\n",
      "[7]                       9                            []\n",
      "[2, 3, 3, 4, 5, 6, 7, 9]\n"
     ]
    }
   ],
   "source": [
    "\n",
    "def QuickSort(lst):\n",
    "    if (len(lst) <= 1):\n",
    "        return lst\n",
    "    \n",
    "    pivot = lst[0]\n",
    "    less_than_pivot = []\n",
    "    greater_than_pivot = []\n",
    "    \n",
    "    for i in range(1, len(lst)):\n",
    "        if lst[i] <= pivot:\n",
    "            less_than_pivot.append(lst[i])\n",
    "        else:\n",
    "            greater_than_pivot.append(lst[i])\n",
    "    print(\"%-25s %-5s %25s\" % (less_than_pivot, pivot, greater_than_pivot)) #understanding\n",
    "    return QuickSort(less_than_pivot) + [pivot] + QuickSort(greater_than_pivot)\n",
    "        \n",
    "    \n",
    "    \n",
    "    \n",
    "    \n",
    "\n",
    "num_list = [4, 6, 2, 3, 9, 7, 3, 5]\n",
    "print(num_list)\n",
    "\n",
    "print(\"%-25s %-5s %25s\"  % (\"less_than_pivot\", \"pivot\",\"greater_than_pivot\")) #understanding\n",
    "Sorted = QuickSort(num_list)\n",
    "print(Sorted)\n"
   ]
  },
  {
   "cell_type": "markdown",
   "metadata": {},
   "source": [
    "## Merge Sort"
   ]
  },
  {
   "cell_type": "code",
   "execution_count": 19,
   "metadata": {
    "scrolled": true
   },
   "outputs": [
    {
     "name": "stdout",
     "output_type": "stream",
     "text": [
      "stack\n",
      "stack\n",
      "stack\n",
      "[4]\n",
      "[6]\n",
      "[4, 6]\n",
      "stack\n",
      "[2]\n",
      "[3]\n",
      "[2, 3]\n",
      "[2, 3, 4, 6]\n",
      "stack\n",
      "stack\n",
      "[9]\n",
      "[7]\n",
      "[7, 9]\n",
      "stack\n",
      "[3]\n",
      "[5]\n",
      "[3, 5]\n",
      "[3, 5, 7, 9]\n"
     ]
    }
   ],
   "source": [
    "def merge_sort(lst):\n",
    "    if (len(lst) <= 1):\n",
    "        return lst\n",
    "    \n",
    "    mid = len(lst) // 2\n",
    "    print(\"stack\")\n",
    "    left_lst = merge_sort(lst[:mid])\n",
    "    print(left_lst)\n",
    "    right_lst = merge_sort(lst[mid:])\n",
    "    print(right_lst)\n",
    "    \n",
    "    sorted_lst = []\n",
    "    left = 0\n",
    "    right = 0\n",
    "    \n",
    "    while (left < len(left_lst) ) and (right < len(right_lst)):\n",
    "        if (left_lst[left] < right_lst[right]):\n",
    "            sorted_lst.append(left_lst[left])\n",
    "            left = left + 1\n",
    "        else :\n",
    "            sorted_lst.append(right_lst[right])\n",
    "            right = right + 1\n",
    "    \n",
    "    sorted_lst += left_lst[left:]\n",
    "    sorted_lst += right_lst[right:]\n",
    "    \n",
    "    return sorted_lst\n",
    "\n",
    "\n",
    "num_list = [4, 6, 2, 3, 9, 7, 3, 5]\n",
    "\n",
    "#print(num_list)\n",
    "\n",
    "Sorted = merge_sort(num_list)\n",
    "#print(Sorted)\n"
   ]
  },
  {
   "cell_type": "code",
   "execution_count": null,
   "metadata": {},
   "outputs": [],
   "source": []
  }
 ],
 "metadata": {
  "kernelspec": {
   "display_name": "Python 3",
   "language": "python",
   "name": "python3"
  },
  "language_info": {
   "codemirror_mode": {
    "name": "ipython",
    "version": 3
   },
   "file_extension": ".py",
   "mimetype": "text/x-python",
   "name": "python",
   "nbconvert_exporter": "python",
   "pygments_lexer": "ipython3",
   "version": "3.7.2"
  }
 },
 "nbformat": 4,
 "nbformat_minor": 2
}
