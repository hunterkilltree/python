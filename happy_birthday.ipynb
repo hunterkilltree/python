{
 "cells": [
  {
   "cell_type": "code",
   "execution_count": null,
   "metadata": {},
   "outputs": [],
   "source": [
    "import datetime\n",
    "\n",
    "print(dir(datetime))\n",
    "\n",
    "your_birthday = datetime.datetime.now()\n",
    "print(your_birthday)\n",
    "\n",
    "print(dir(your_birthday))\n",
    "print(your_birthday.day)\n",
    "print(your_birthday.month)"
   ]
  },
  {
   "cell_type": "code",
   "execution_count": null,
   "metadata": {},
   "outputs": [],
   "source": [
    "import datetime\n",
    "\n",
    "current_time = datetime.datetime.now()\n",
    "day = current_time.day\n",
    "month = current_time.month\n",
    "\n",
    "your_name = input(\"Please enter your name: \")\n",
    "your_day, your_month = input(\"Please enter your date of birth: \").split(\" \")\n",
    "\n",
    "if day == your_day and month == your_month :\n",
    "    print(\"Happy Birthday, {} :3\".format(your_name))\n",
    "else :\n",
    "    print(\"Say Goodbye ^_^\")\n",
    "    \n",
    "\n"
   ]
  },
  {
   "cell_type": "code",
   "execution_count": null,
   "metadata": {},
   "outputs": [],
   "source": [
    "import datetime\n",
    "\n",
    "current_time = datetime.datetime.now()\n",
    "day = current_time.day\n",
    "month = current_time.month\n",
    "\n",
    "your_name = input(\"Please enter your name: \")\n",
    "\n",
    "if day == 12 and month == 11 :\n",
    "    print(\"Happy Birthday, {} :3\".format(your_name))\n",
    "else :\n",
    "    print(\"Sorry :v\")"
   ]
  }
 ],
 "metadata": {
  "kernelspec": {
   "display_name": "Python 3",
   "language": "python",
   "name": "python3"
  },
  "language_info": {
   "codemirror_mode": {
    "name": "ipython",
    "version": 3
   },
   "file_extension": ".py",
   "mimetype": "text/x-python",
   "name": "python",
   "nbconvert_exporter": "python",
   "pygments_lexer": "ipython3",
   "version": "3.6.4"
  }
 },
 "nbformat": 4,
 "nbformat_minor": 2
}
