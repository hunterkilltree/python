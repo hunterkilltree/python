{
 "cells": [
  {
   "cell_type": "markdown",
   "metadata": {},
   "source": [
    "* M change cell to markdown\n",
    "* D + D delete cell\n",
    "* B insert new cell below\n",
    "* Ctrl + shift + - split at the position of cursor\n",
    "* A insert new cell above\n",
    "* Esc  + F find and replace code **not output**\n",
    "* Shift + M merge mutiple cells.\n",
    "* Ctrl + Enter run the cell."
   ]
  },
  {
   "cell_type": "markdown",
   "metadata": {},
   "source": [
    "## Algorithm is the number of steps a program takes to finish the task"
   ]
  },
  {
   "cell_type": "markdown",
   "metadata": {},
   "source": [
    "##### the  O in big O notation stands for the order of *** growth***"
   ]
  },
  {
   "cell_type": "markdown",
   "metadata": {},
   "source": [
    "# linear search\n",
    "### O(n) in worst case "
   ]
  },
  {
   "cell_type": "code",
   "execution_count": 10,
   "metadata": {},
   "outputs": [
    {
     "name": "stdout",
     "output_type": "stream",
     "text": [
      "3 is the position of target\n"
     ]
    }
   ],
   "source": [
    "def linear_search(mylist, target):\n",
    "    for i in range(0, len(mylist)):\n",
    "        if mylist[i] == target:\n",
    "            return i\n",
    "    return None\n",
    "\n",
    "\n",
    "\n",
    "mylist = [1, 3, 4, 5, 2, 4, 10]\n",
    "res = linear_search(mylist, 5)\n",
    "print(\"{} is the position of target\".format(res))"
   ]
  },
  {
   "cell_type": "markdown",
   "metadata": {},
   "source": [
    "## Binary search\n",
    "##### require the sub-condition that the given list must be sorted\n",
    "##### O(n logn)\n"
   ]
  },
  {
   "cell_type": "code",
   "execution_count": 2,
   "metadata": {},
   "outputs": [
    {
     "name": "stdout",
     "output_type": "stream",
     "text": [
      "4 is the position of the value\n"
     ]
    }
   ],
   "source": [
    "# // floor division operator \n",
    "# 7 / 2 = 4.5 , 7 // 2 = 4\n",
    "def binary_search(lst, target):\n",
    "    first = 0\n",
    "    last = len(lst) - 1\n",
    "    \n",
    "    while first <= last:\n",
    "            midpoint = (first + last) // 2\n",
    "            if lst[midpoint] == target:\n",
    "                return midpoint\n",
    "            if lst[midpoint] < target:\n",
    "                first = midpoint + 1\n",
    "            elif lst[midpoint] > target:\n",
    "                last = midpoint - 1\n",
    "                \n",
    "    return None\n",
    "\n",
    "# mylist sorted\n",
    "mylist = [1,2,3,4,5,6,7,8,9,10]\n",
    "target = 5\n",
    "print (\"{} is the position of the value\".format(binary_search(mylist, target)))\n",
    "    "
   ]
  },
  {
   "cell_type": "code",
   "execution_count": null,
   "metadata": {},
   "outputs": [],
   "source": []
  }
 ],
 "metadata": {
  "kernelspec": {
   "display_name": "Python 3",
   "language": "python",
   "name": "python3"
  },
  "language_info": {
   "codemirror_mode": {
    "name": "ipython",
    "version": 3
   },
   "file_extension": ".py",
   "mimetype": "text/x-python",
   "name": "python",
   "nbconvert_exporter": "python",
   "pygments_lexer": "ipython3",
   "version": "3.6.4"
  }
 },
 "nbformat": 4,
 "nbformat_minor": 2
}
