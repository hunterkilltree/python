{
 "cells": [
  {
   "cell_type": "markdown",
   "metadata": {},
   "source": [
    "* M change cell to markdown\n",
    "* D + D delete cell\n",
    "* B insert new cell below\n",
    "* Ctrl + shift + - split at the position of cursor\n",
    "* A insert new cell above\n",
    "* Esc  + F find and replace code **not output**\n",
    "* Shift + M merge mutiple cells.\n",
    "* Ctrl + Enter run the cell."
   ]
  },
  {
   "cell_type": "markdown",
   "metadata": {},
   "source": [
    "## Algorithm is the number of steps a program takes to finish the task"
   ]
  },
  {
   "cell_type": "markdown",
   "metadata": {},
   "source": [
    "##### the  O in big O notation stands for the order of *** growth***"
   ]
  },
  {
   "cell_type": "markdown",
   "metadata": {},
   "source": [
    "# linear search\n",
    "### O(n) in worst case "
   ]
  },
  {
   "cell_type": "code",
   "execution_count": 10,
   "metadata": {},
   "outputs": [
    {
     "name": "stdout",
     "output_type": "stream",
     "text": [
      "3 is the position of target\n"
     ]
    }
   ],
   "source": [
    "def linear_search(mylist, target):\n",
    "    for i in range(0, len(mylist)):\n",
    "        if mylist[i] == target:\n",
    "            return i\n",
    "    return None\n",
    "\n",
    "\n",
    "\n",
    "mylist = [1, 3, 4, 5, 2, 4, 10]\n",
    "res = linear_search(mylist, 5)\n",
    "print(\"{} is the position of target\".format(res))"
   ]
  },
  {
   "cell_type": "markdown",
   "metadata": {},
   "source": [
    "## Binary search\n",
    "##### require the sub-condition that the given list must be sorted\n",
    "##### O(n logn)\n"
   ]
  },
  {
   "cell_type": "code",
   "execution_count": 38,
   "metadata": {},
   "outputs": [
    {
     "name": "stdout",
     "output_type": "stream",
     "text": [
      "4 is the position of the value\n"
     ]
    }
   ],
   "source": [
    "# // floor division operator \n",
    "# 7 / 2 = 4.5 , 7 // 2 = 4\n",
    "def binary_search(lst, target):\n",
    "    first = 0\n",
    "    last = len(lst) - 1\n",
    "    \n",
    "    while first <= last:\n",
    "            midpoint = (first + last) // 2\n",
    "            if lst[midpoint] == target:\n",
    "                return midpoint\n",
    "            if lst[midpoint] < target:\n",
    "                first = midpoint + 1\n",
    "            elif lst[midpoint] > target:\n",
    "                last = midpoint - 1\n",
    "                \n",
    "    return None\n",
    "\n",
    "# mylist sorted\n",
    "mylist = [1,2,3,4,5,6,7,8,9,10]\n",
    "target = 5\n",
    "print (\"{} is the position of the value\".format(binary_search(mylist, target)))\n",
    "    "
   ]
  },
  {
   "cell_type": "code",
   "execution_count": 39,
   "metadata": {},
   "outputs": [
    {
     "name": "stdout",
     "output_type": "stream",
     "text": [
      "true\n"
     ]
    }
   ],
   "source": [
    "'''\n",
    "Binary Search Recursion\n",
    "'''\n",
    "\n",
    "def recursive_binary_search(list_nums, target):\n",
    "    if len(list_nums) == 0:\n",
    "        return False\n",
    "    else:\n",
    "        midpoint = (len(list_nums))  // 2\n",
    "        \n",
    "        if list_nums[midpoint] == target:\n",
    "            return True\n",
    "        elif list_nums[midpoint] < target:\n",
    "            return recursive_binary_search(list_nums[midpoint + 1:], target)\n",
    "        elif list_nums[midpoint] > target:\n",
    "            return recursive_binary_search(list_nums[:midpoint], target)\n",
    "\n",
    "        \n",
    "nums = [1, 2, 3,4, 5, 6, 7, 8, 9]\n",
    "target = 1\n",
    "check = recursive_binary_search(nums, target)\n",
    "    \n",
    "\n",
    "if check == True:\n",
    "    print(\"true\")\n",
    "    \n",
    "else:\n",
    "    print(\"false\")"
   ]
  },
  {
   "cell_type": "markdown",
   "metadata": {},
   "source": [
    "### Another version of recursive binary search\n",
    "##### Where we can get the postion of the target in the list"
   ]
  },
  {
   "cell_type": "code",
   "execution_count": 44,
   "metadata": {},
   "outputs": [
    {
     "name": "stdout",
     "output_type": "stream",
     "text": [
      "0 is the position of the value\n"
     ]
    }
   ],
   "source": [
    "def recursive_binary_search(list_nums, target, start = 0, end = None):\n",
    "    if end is None:\n",
    "        end = len(list_nums) - 1\n",
    "    if start > end:\n",
    "        return -1\n",
    "    \n",
    "    mid = (start + end) // 2\n",
    "    \n",
    "    if target == list_nums[mid]:\n",
    "        return mid\n",
    "    elif target > list_nums[mid]:\n",
    "        return recursive_binary_search(list_nums, target, mid + 1, end)\n",
    "    elif target < list_nums[mid]:\n",
    "        return recursive_binary_search(list_nums, target, start, mid - 1)\n",
    "    \n",
    "        \n",
    "mylist = [1,2,3,4,5,6,7,8,9,10]\n",
    "target = 1\n",
    "print (\"{} is the position of the value\".format(recursive_binary_search(mylist, target)))  \n",
    "        "
   ]
  }
 ],
 "metadata": {
  "kernelspec": {
   "display_name": "Python 3",
   "language": "python",
   "name": "python3"
  },
  "language_info": {
   "codemirror_mode": {
    "name": "ipython",
    "version": 3
   },
   "file_extension": ".py",
   "mimetype": "text/x-python",
   "name": "python",
   "nbconvert_exporter": "python",
   "pygments_lexer": "ipython3",
   "version": "3.7.2"
  }
 },
 "nbformat": 4,
 "nbformat_minor": 2
}
